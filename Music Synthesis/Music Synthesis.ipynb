{
 "cells": [
  {
   "cell_type": "markdown",
   "metadata": {},
   "source": [
    "This is a [jupyter](http://jupyter.org) notebook.\n",
    "\n",
    "Open the notebook by (1) copying this file into a directory, (2) launching jupyter notebook in that directory\n",
    "and (3) selecting the notebook."
   ]
  },
  {
   "cell_type": "markdown",
   "metadata": {},
   "source": [
    "# <u><font color= 'blue'>Music Synthesis</font> </u>\n",
    "### <i>Practical Assignment 2, EE210 (Spring 2017) </i>\n",
    "___\n",
    "A notebook by ___Shashwat Shukla___ and ___Dhruv Ilesh Shah___ \n",
    "___\n",
    "__Required Packages:__ Python(2.7+), NumPy, math, cmath, SciPy.io _(Optional, to simplify IO operations)_\n",
    "___\n",
    "In this notebook, we describe our method for synthesising music, given the sequences of notes and their timings. We have added higher harmonics to each tone being played. We also modulated the temporal envelope of the notes played. \n",
    "The temporal envelope has been modelled using the ADSR. \n",
    "\n",
    "Our code is very modular and all parameters of the ADSR model and for the harmonic content are fully configurable. We have fixed the values of our parameters to model the timbre of an acoustic guitar. We have also implemented a simple model for a piano.  \n",
    "\n",
    "We first define the parameters of our model. All of these can be tweaked as we wish. "
   ]
  },
  {
   "cell_type": "code",
   "execution_count": 1,
   "metadata": {
    "collapsed": false
   },
   "outputs": [],
   "source": [
    "%matplotlib inline\n",
    "# Import packages\n",
    "import numpy as np\n",
    "import matplotlib.pyplot as plt\n",
    "import csv\n",
    "import re\n",
    "from cmath import *\n",
    "\n",
    "# Specify parameters for the model\n",
    "harmonics = np.array([1., - 1. / 9, 1. / 25])  # Spectral Profile\n",
    "adsr = np.array([30, 800, 0, 0])  # Temporal Profile (ms)\n",
    "rate = 16  # sampling rate in kHz\n",
    "total = np.sum(adsr)  # total time for which one pluck persists"
   ]
  },
  {
   "cell_type": "markdown",
   "metadata": {},
   "source": [
    "## <u><font color=\"blue\"> Modelling the Guitar </font></u>"
   ]
  },
  {
   "cell_type": "markdown",
   "metadata": {},
   "source": [
    "## The Harmonic Spectrum\n",
    "\n",
    "Each musical instrument has it's own harmonic spectrum. This spectrum arises by the superposition of higher harmonics on the vibrations of the fundamental, due to the physical characteristics of the instrument, which vary greatly from instrument to instrument. \n",
    "\n",
    "The following function generates the resulting waveform of the superposition of all harmonics. Note that only the third and fifth harmonics have been included, as they are found to have the greatest magnitude for most instruments. \n",
    "\n",
    "![The Problem](Pics/GuitarHarmonics.png)\n",
    "![In time](Pics/GuitarTime.png)"
   ]
  },
  {
   "cell_type": "code",
   "execution_count": 2,
   "metadata": {
    "collapsed": false
   },
   "outputs": [
    {
     "data": {
      "text/plain": [
       "<matplotlib.text.Text at 0x7fca923a7850>"
      ]
     },
     "execution_count": 2,
     "metadata": {},
     "output_type": "execute_result"
    },
    {
     "data": {
      "image/png": "[encoded data removed]",
      "text/plain": [
       "<matplotlib.figure.Figure at 0x7fca946cd9d0>"
      ]
     },
     "metadata": {},
     "output_type": "display_data"
    }
   ],
   "source": [
    "harmonic_spectrum_guitar = [[0, 1, 2, 3, 4, 5], [0, 1, 0, 0.3, 0, 0.25]]\n",
    "\n",
    "plt.stem(harmonic_spectrum_guitar[0], harmonic_spectrum_guitar[1])\n",
    "plt.axis([0.5, 5.5, 0, 1.5])\n",
    "plt.title(\"Harmonic Spectrum for a Guitar Model\")"
   ]
  },
  {
   "cell_type": "code",
   "execution_count": 3,
   "metadata": {
    "collapsed": false,
    "scrolled": true
   },
   "outputs": [
    {
     "data": {
      "text/plain": [
       "<matplotlib.text.Text at 0x7fca921bec10>"
      ]
     },
     "execution_count": 3,
     "metadata": {},
     "output_type": "execute_result"
    },
    {
     "data": {
      "image/png": "[encoded data removed]",
      "text/plain": [
       "<matplotlib.figure.Figure at 0x7fca9441a2d0>"
      ]
     },
     "metadata": {},
     "output_type": "display_data"
    }
   ],
   "source": [
    "def gen_tone(f):\n",
    "\tt = np.arange(total * rate)\n",
    "\tx = np.sin(2 * np.pi * f * t / (1000 * rate))\n",
    "\tx = x + harmonics[1] * np.sin(2 * np.pi * 3 * f * t / (1000 * rate))\n",
    "\tx = x + harmonics[2] * np.sin(2 * np.pi * 5 * f * t / (1000 * rate))\n",
    "\treturn x\n",
    "\n",
    "#Plot the resulting waveform containing the harmonics\n",
    "tone = gen_tone(100)\n",
    "plt.plot(tone[:200])\n",
    "plt.title(\"Sample Tone of 100Hz\")"
   ]
  },
  {
   "cell_type": "markdown",
   "metadata": {},
   "source": [
    "## The Temporal ADSR Envelope\n",
    "\n",
    "The amplitude of sound generated by any instrument reaches a peak and then dies off after some time if the note is not being held. Thus there is temporal variation in the amplitude envelope of the sound generated by any instrument.\n",
    "The ADSR is a simple, linear model for this time-variation. Despite it's apparent simplicity, it is very general and can be tuned to mimic profiles of many real instruments. \n",
    "ADSR stands for Attack, Delay, Sustain and Release. \n",
    "\n",
    "Stringed instruments like the guitar and ukelele don't allow for a sustain (and hence a release). The amplitude profile for such instruments is hence easily modelled by a short attack time followed by a proportionately larger delay time. \n",
    "\n",
    "Instruments like pipe-organs and keyboards allow a note to be held down for as long as the player wishes. This is modelled by a sustain time followed by the corresponding release. \n",
    "\n",
    "The following is code to generate the ADSR time-profile given the time durations for attack and delay. Sustain and release are to be implemented subsequently.\n",
    "The resultant envelope is then plotted. "
   ]
  },
  {
   "cell_type": "code",
   "execution_count": 4,
   "metadata": {
    "collapsed": false
   },
   "outputs": [
    {
     "data": {
      "text/plain": [
       "[<matplotlib.lines.Line2D at 0x7fca920b2890>]"
      ]
     },
     "execution_count": 4,
     "metadata": {},
     "output_type": "execute_result"
    },
    {
     "data": {
      "image/png": "[encoded data removed]",
      "text/plain": [
       "<matplotlib.figure.Figure at 0x7fca921b4710>"
      ]
     },
     "metadata": {},
     "output_type": "display_data"
    }
   ],
   "source": [
    "def gen_impulse():\n",
    "\tglobal adsr, rate;\n",
    "\tif (adsr[2]!=0 or adsr[3]!= 0):\n",
    "\t\tprint \"Please Remove S, R values. Working on that!\"\n",
    "\t\treturn\n",
    "\timpulse = np.zeros(total * rate)\n",
    "\tfor i in range(total * rate):\n",
    "\t\tif(i < adsr[0] * rate):\n",
    "\t\t\timpulse[i] = (1.0 * i / rate) / adsr[0]\n",
    "\t\telif(i < (adsr[0] + adsr[1]) * rate):\n",
    "\t\t\timpulse[i] = 1.0 * (adsr[0] + adsr[1] - 1.0 * i / rate) / adsr[1]\n",
    "\t\t# Add code for sustain and release also\n",
    "\treturn impulse\n",
    "\n",
    "impulse = gen_impulse()\n",
    "plt.plot(impulse)"
   ]
  },
  {
   "cell_type": "markdown",
   "metadata": {},
   "source": [
    "The waveform of the sound that any instrument emits as a result of a note being played, is then simply the multiplication of the temporal waveform with the harmonically enriched sinusoid waveform. \n",
    "Thus the timbre of our sound is characterised by both these waveforms.\n",
    "\n",
    "The net output has been plotted below for this example."
   ]
  },
  {
   "cell_type": "code",
   "execution_count": 5,
   "metadata": {
    "collapsed": false
   },
   "outputs": [
    {
     "data": {
      "text/plain": [
       "[<matplotlib.lines.Line2D at 0x7fca92062d50>]"
      ]
     },
     "execution_count": 5,
     "metadata": {},
     "output_type": "execute_result"
    },
    {
     "data": {
      "image/png": "[encoded data removed]",
      "text/plain": [
       "<matplotlib.figure.Figure at 0x7fca92319790>"
      ]
     },
     "metadata": {},
     "output_type": "display_data"
    }
   ],
   "source": [
    "out = np.multiply(impulse, tone)\n",
    "plt.plot(out[:30000])"
   ]
  },
  {
   "cell_type": "markdown",
   "metadata": {},
   "source": [
    "It is intereting to see that since a guitar has a fixed drop time, the decay is not really dependent on the duration between the nodes. Hence, we would need to account for the overlap of notes when preparing the code. This has been shown later."
   ]
  },
  {
   "cell_type": "markdown",
   "metadata": {},
   "source": [
    "## <u><font color=\"blue\"> Modelling the Piano </font></u>"
   ]
  },
  {
   "cell_type": "markdown",
   "metadata": {},
   "source": [
    "## The Harmonic Spectrum\n",
    "\n",
    "The Piano is an instrument which has synthesised sound, and hence it's harmonic spectrum can be designed as required. Here, we have used an envelope that dies with $ \\frac{1}{f_n} $."
   ]
  },
  {
   "cell_type": "code",
   "execution_count": 6,
   "metadata": {
    "collapsed": false
   },
   "outputs": [
    {
     "data": {
      "text/plain": [
       "<matplotlib.text.Text at 0x7fca91f6e910>"
      ]
     },
     "execution_count": 6,
     "metadata": {},
     "output_type": "execute_result"
    },
    {
     "data": {
      "image/png": "[encoded data removed]",
      "text/plain": [
       "<matplotlib.figure.Figure at 0x7fca9209a450>"
      ]
     },
     "metadata": {},
     "output_type": "display_data"
    }
   ],
   "source": [
    "harmonic_spectrum_piano = [[0, 1, 2, 3, 4, 5], [0, 1, 1./2, 1./3, 1./4, 1./5]]\n",
    "\n",
    "plt.stem(harmonic_spectrum_piano[0], harmonic_spectrum_piano[1])\n",
    "plt.axis([0.5, 5.5, 0, 1.2])\n",
    "plt.title(\"Harmonic Spectrum for a Piano Model\")"
   ]
  },
  {
   "cell_type": "code",
   "execution_count": 7,
   "metadata": {
    "collapsed": false
   },
   "outputs": [
    {
     "data": {
      "text/plain": [
       "<matplotlib.text.Text at 0x7fca91ed1490>"
      ]
     },
     "execution_count": 7,
     "metadata": {},
     "output_type": "execute_result"
    },
    {
     "data": {
      "image/png": "[encoded data removed]",
      "text/plain": [
       "<matplotlib.figure.Figure at 0x7fca9209ae10>"
      ]
     },
     "metadata": {},
     "output_type": "display_data"
    }
   ],
   "source": [
    "harmonics = np.array([1., - 1./2,  1. / 3, - 1./4, 1. / 5])  # Spectral Profile\n",
    "\n",
    "def gen_tone(f, duration):\n",
    "\tglobal rate, harmonics\n",
    "\tt = np.arange(duration * rate)\n",
    "\tx = np.sin(2 * np.pi * f * t / (1000 * rate))\n",
    "\tx = x + harmonics[1] * np.sin(2 * np.pi * 2 * f * t / (1000 * rate))\n",
    "\tx = x + harmonics[2] * np.sin(2 * np.pi * 3 * f * t / (1000 * rate))\n",
    "\tx = x + harmonics[3] * np.sin(2 * np.pi * 4 * f * t / (1000 * rate))\n",
    "\tx = x + harmonics[4] * np.sin(2 * np.pi * 5 * f * t / (1000 * rate))\n",
    "\treturn x\n",
    "\n",
    "\n",
    "#Plot the resulting waveform containing the harmonics\n",
    "tone = gen_tone(200, 200)\n",
    "plt.plot(tone[:200])\n",
    "plt.title(\"Sample Tone of 200Hz\")"
   ]
  },
  {
   "cell_type": "markdown",
   "metadata": {},
   "source": [
    "## The Temporal ADSR Envelope\n",
    "\n",
    "Unlike a guitar, the piano has it's main period in the _sustain_ period. Typically, it also involves an adaptive period, with the player holding the note for the required period. We can model this, by a brief attack period followed by a large sustain period, and a short release period."
   ]
  },
  {
   "cell_type": "code",
   "execution_count": 8,
   "metadata": {
    "collapsed": false
   },
   "outputs": [
    {
     "name": "stderr",
     "output_type": "stream",
     "text": [
      "/usr/local/lib/python2.7/dist-packages/numpy/core/numeric.py:190: VisibleDeprecationWarning: using a non-integer number instead of an integer will result in an error in the future\n",
      "  a = empty(shape, dtype, order)\n"
     ]
    },
    {
     "data": {
      "text/plain": [
       "[<matplotlib.lines.Line2D at 0x7fca91d69210>]"
      ]
     },
     "execution_count": 8,
     "metadata": {},
     "output_type": "execute_result"
    },
    {
     "data": {
      "image/png": "[encoded data removed]",
      "text/plain": [
       "<matplotlib.figure.Figure at 0x7fca91ff1e10>"
      ]
     },
     "metadata": {},
     "output_type": "display_data"
    }
   ],
   "source": [
    "ADSR = [0.1, 0, 0.75, 0.15]\n",
    "\n",
    "def get_envelope(duration):\n",
    "\tglobal rate\n",
    "\tenvelope = np.arange(duration * rate * (ADSR[0]))\n",
    "\tenvelope = envelope / np.max(envelope)\n",
    "\tenvelope = np.append(envelope, np.ones(ADSR[2] * duration * rate))\n",
    "\tx = np.arange(duration * rate * ADSR[3])\n",
    "\tx = x / np.max(x)\n",
    "\trelease = 1 - x\n",
    "\t# envelope = list(envelope)\n",
    "\tenvelope = np.append(envelope, release)\n",
    "\treturn envelope\n",
    "\n",
    "env = get_envelope(200)\n",
    "plt.axis([0, 3200, 0, 1.1])\n",
    "plt.title(\"Envelope for a Piano Note played for 200ms\")\n",
    "plt.plot(env)"
   ]
  },
  {
   "cell_type": "code",
   "execution_count": 9,
   "metadata": {
    "collapsed": false
   },
   "outputs": [
    {
     "data": {
      "text/plain": [
       "[<matplotlib.lines.Line2D at 0x7fca91d17a50>]"
      ]
     },
     "execution_count": 9,
     "metadata": {},
     "output_type": "execute_result"
    },
    {
     "data": {
      "image/png": "[encoded data removed]",
      "text/plain": [
       "<matplotlib.figure.Figure at 0x7fca91fd72d0>"
      ]
     },
     "metadata": {},
     "output_type": "display_data"
    }
   ],
   "source": [
    "tune = tone * env\n",
    "plt.title(\"Temporal Response of a Piano Note played for 200ms\")\n",
    "plt.plot(tune)"
   ]
  },
  {
   "cell_type": "markdown",
   "metadata": {},
   "source": [
    "## <u><font color=\"blue\"> Putting It Together </font></u>\n",
    "\n",
    "Now that we have the necessary components for generating a tone sequence, let's see how it can be done.  \n",
    "_(We need some helper functions for file handling. These have been given below, or in file helper.py)_"
   ]
  },
  {
   "cell_type": "code",
   "execution_count": 10,
   "metadata": {
    "collapsed": false
   },
   "outputs": [],
   "source": [
    "import numpy as np\n",
    "import matplotlib.pyplot as plt\n",
    "from scipy.io import wavfile\n",
    "import csv\n",
    "import re\n",
    "\n",
    "\n",
    "def get_notes(songfile):\n",
    "\tsong = []\n",
    "\twith open(songfile, 'rb') as csvfile:\n",
    "\t\tsongreader = csv.reader(csvfile, delimiter = ' ')\n",
    "\t\tfor row in songreader:\n",
    "\t\t\tsong.append(row)\n",
    "\treturn song\n",
    "\n",
    "def strip_file(songfile):\n",
    "\tstripped = []\n",
    "\twith open(songfile, 'rb') as song_file:\n",
    "\t\tfor row in song_file:\n",
    "\t\t\tstripped.append(re.sub(r';', \"\", re.sub(\n",
    "\t\t\t\tr'\\)', \"\", re.sub(r'\\(', \"\", row))))\n",
    "\tsong_file.close()\n",
    "\twith open(songfile, 'wb') as new_file:\n",
    "\t\tfor el in stripped:\n",
    "\t\t\tnew_file.write(el)"
   ]
  },
  {
   "cell_type": "markdown",
   "metadata": {},
   "source": [
    "### The Piano\n",
    "\n",
    "First up is the piano - no overlap, distinch notes & melodius!"
   ]
  },
  {
   "cell_type": "code",
   "execution_count": 15,
   "metadata": {
    "collapsed": false
   },
   "outputs": [],
   "source": [
    "harmonics = np.array([1., - 1./2,  1. / 3, - 1./4, 1. / 5])  # Spectral Profile\n",
    "rate = 16  # sampling rate in kHz\n",
    "ADSR = [0.1, 0, 0.75, 0.15] # Temporal Profile\n",
    "\n",
    "def get_envelope(duration):\n",
    "\tglobal rate\n",
    "\tenvelope = np.arange(duration * rate * (ADSR[0]))\n",
    "\tenvelope = envelope / np.max(envelope)\n",
    "\tenvelope = np.append(envelope, np.ones(ADSR[2] * duration * rate))\n",
    "\tx = np.arange(duration * rate * ADSR[3])\n",
    "\tx = x / np.max(x)\n",
    "\trelease = 1 - x\n",
    "\t# envelope = list(envelope)\n",
    "\tenvelope = np.append(envelope, release)\n",
    "\treturn envelope\n",
    "\n",
    "\n",
    "def gen_tone(f, duration):\n",
    "\tglobal rate, harmonics\n",
    "\tt = np.arange(duration * rate)\n",
    "\tx = np.sin(2 * np.pi * f * t / (1000 * rate))\n",
    "\tx = x + harmonics[1] * np.sin(2 * np.pi * 2 * f * t / (1000 * rate))\n",
    "\tx = x + harmonics[2] * np.sin(2 * np.pi * 3 * f * t / (1000 * rate))\n",
    "\tx = x + harmonics[3] * np.sin(2 * np.pi * 4 * f * t / (1000 * rate))\n",
    "\tx = x + harmonics[4] * np.sin(2 * np.pi * 5 * f * t / (1000 * rate))\n",
    "\treturn x\n",
    "\n",
    "def generate_song(filename):\n",
    "\tstrip_file(filename)\n",
    "\tnotes_file = get_notes(filename)\n",
    "\tduration = 0.\n",
    "\tnotes = []\n",
    "\tfor line in notes_file:\n",
    "\t\tfor note in line:\n",
    "\t\t\tif (len(note.split(',')) == 2):\n",
    "\t\t\t\tduration = duration + int(note.split(',')[1])\n",
    "\t\t\t\tnotes.append(note.split(','))\n",
    "\tnotes = np.array(notes)\n",
    "\tnotes.astype(np.float32)\n",
    "\tsong = []\n",
    "\tfor i in range(len(notes)):\n",
    "\t\ttone = gen_tone(float(notes[i][0]), int(notes[i][1]))\n",
    "\t\tenvelope = get_envelope(int(notes[i][1]))\n",
    "\t\ttune = tone * envelope\n",
    "\t\tsong.extend(list(tune))\n",
    "\tsong = np.clip(song, -1.0, 1.0)\n",
    "\treturn song"
   ]
  },
  {
   "cell_type": "code",
   "execution_count": 16,
   "metadata": {
    "collapsed": false
   },
   "outputs": [],
   "source": [
    "song = generate_song(\"Songs/song_b.txt\")\n",
    "wavfile.write(\"Songs/Song_b_piano.wav\", rate * 1000, song)"
   ]
  },
  {
   "cell_type": "markdown",
   "metadata": {},
   "source": [
    "### The Guitar\n",
    "\n",
    "Next up is the guitar. This is slightly more complicated because there would be overlap between different nodes. And due to this very fact, despite our best efforts, we could not generate absolute guitar-like sound, although many characteristics were preserved and observed."
   ]
  },
  {
   "cell_type": "code",
   "execution_count": 17,
   "metadata": {
    "collapsed": true
   },
   "outputs": [],
   "source": [
    "harmonics = np.array([1., 0.3, 0.25])  # Spectral Profile\n",
    "adsr = np.array([30, 800, 0, 0])  # Temporal Profile (ms)\n",
    "rate = 16  # sampling rate in kHz\n",
    "total = np.sum(adsr)  # total time for which one pluck persists\n",
    "\n",
    "def generate_independent():\n",
    "\tsongfile = \"Songs/song_a.txt\"\n",
    "\tstrip_file(songfile)\n",
    "\tsong = get_notes(songfile)\n",
    "\tprint song\n",
    "\n",
    "def gen_impulse():\n",
    "\tglobal adsr, rate;\n",
    "\tif (adsr[2]!=0 or adsr[3]!= 0):\n",
    "\t\tprint \"Please Remove S, R values. Working on that!\"\n",
    "\t\treturn\n",
    "\timpulse = np.zeros(total * rate)\n",
    "\tfor i in range(total * rate):\n",
    "\t\tif(i < adsr[0] * rate):\n",
    "\t\t\timpulse[i] = (1.0 * i / rate) / adsr[0]\n",
    "\t\telif(i < (adsr[0] + adsr[1]) * rate):\n",
    "\t\t\timpulse[i] = 1.0 * (adsr[0] + adsr[1] - 1.0 * i / rate) / adsr[1]\n",
    "\t\t# Add code for sustain and release also\n",
    "\treturn impulse\n",
    "\n",
    "def gen_tone(f):\n",
    "\tt = np.arange(total * rate)\n",
    "\tx = np.sin(2 * np.pi * f * t / (1000 * rate))\n",
    "\tx = x + harmonics[1] * np.sin(2 * np.pi * 3 * f * t / (1000 * rate))\n",
    "\tx = x + harmonics[2] * np.sin(2 * np.pi * 5 * f * t / (1000 * rate))\n",
    "\treturn x\n",
    "\n",
    "def posify(notes_in):\n",
    "\tcumulative = 0\n",
    "\tnotes = []\n",
    "\tfor i in range(len(notes_in)):\n",
    "\t\tnotes.append([float(notes_in[i][0]), cumulative])\n",
    "\t\tcumulative = cumulative + int(notes_in[i][1])\n",
    "\treturn notes\n",
    "\n",
    "def generate_song(filename):\n",
    "\tstrip_file(filename)\n",
    "\tnotes_file = get_notes(filename)\n",
    "\tduration = 0.\n",
    "\tnotes = []\n",
    "\tfor line in notes_file:\n",
    "\t\tfor note in line:\n",
    "\t\t\tif (len(note.split(',')) == 2):\n",
    "\t\t\t\tduration = duration + int(note.split(',')[1])\n",
    "\t\t\t\tnotes.append(note.split(','))\n",
    "\tnotes = np.array(notes)\n",
    "\tnotes.astype(np.float32)\n",
    "\tsong = np.zeros(int((duration + total) * rate))\n",
    "\tnotes = posify(notes)\n",
    "\timpulse = gen_impulse()\n",
    "\tfor i in range(len(notes)):\n",
    "\t\ttone = gen_tone(notes[i][0])\n",
    "\t\ttune = tone * impulse\n",
    "\t\tsong[notes[i][1] * rate : (notes[i][1] * rate) + len(tone)] += tune\n",
    "\t\t# print len(tone)\n",
    "\tsong = np.clip(song, -1.0, 1.0)\n",
    "\treturn song\n"
   ]
  },
  {
   "cell_type": "code",
   "execution_count": 18,
   "metadata": {
    "collapsed": false
   },
   "outputs": [],
   "source": [
    "song = generate_song(\"Songs/song_b.txt\")\n",
    "wavfile.write(\"Songs/Song_b_guitar.wav\", rate * 1000, song)"
   ]
  },
  {
   "cell_type": "markdown",
   "metadata": {},
   "source": [
    "Sample outputs for the songs can be found in [here](https://drive.google.com/drive/folders/0BzrafcdwRhiEamE4MTF1cTBqNzg?usp=sharing). Navigate to \"Songs/\" and play the files."
   ]
  },
  {
   "cell_type": "markdown",
   "metadata": {},
   "source": [
    "## References\n",
    "\n",
    "https://courses.physics.illinois.edu/phys406/student_projects/fall02/rlee/ryan_lee_p398emi_main_report.pdf\n",
    "\n",
    "http://en.wikiaudio.org/ADSR_envelope\n",
    "\n",
    "http://www.mne.psu.edu/cimbala/me345/Lectures/FFT_guitar_strings.pdf\n",
    "\n",
    "https://www.freesound.org/people/SpeedY/packs/469/"
   ]
  },
  {
   "cell_type": "markdown",
   "metadata": {},
   "source": [
    "## __Thank you!__"
   ]
  }
 ],
 "metadata": {
  "anaconda-cloud": {},
  "kernelspec": {
   "display_name": "Python 2",
   "language": "python",
   "name": "python2"
  },
  "language_info": {
   "codemirror_mode": {
    "name": "ipython",
    "version": 2
   },
   "file_extension": ".py",
   "mimetype": "text/x-python",
   "name": "python",
   "nbconvert_exporter": "python",
   "pygments_lexer": "ipython2",
   "version": "2.7.6"
  }
 },
 "nbformat": 4,
 "nbformat_minor": 0
}
